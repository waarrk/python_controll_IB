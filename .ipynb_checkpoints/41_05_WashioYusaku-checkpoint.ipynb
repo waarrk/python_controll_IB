{
 "cells": [
  {
   "cell_type": "markdown",
   "metadata": {},
   "source": [
    "## 第五回課題\n",
    "\n",
    "制御対象の伝達関数を\n",
    "$$\n",
    "P (s) =  \\frac{s-1}{s^4 + s^3 + 2 s^2 - 2s + 4}\n",
    "$$\n",
    "とする.以下の項目についてまとめよ.\n",
    "\n",
    "1. P(s) の安定性を判別せよ.\n",
    "2. 図 1 の比例制御を施したときのフィードバック制御系の伝達関数 G(s) を求めよ.\n",
    "3. フルビッツ法かラウス法を使って，フィードバック制御系が安定となるための K の条件を求めよ. (過程全てを書かなくてよいが，H2, H3 の式や，ラウス数列の 1 列目は書くように。)\n",
    "4. Python-control を使って K が安定条件を満たす場合と満たさない場合それぞれのステップ応答を調 べ，求めた条件が正しいことを確かめよ(条件の境界ピッタリじゃない方が良い)"
   ]
  },
  {
   "cell_type": "markdown",
   "metadata": {},
   "source": [
    "### 1. P(s) の安定性を判別せよ\n",
    "\n",
    "$P(s)$の特性多項式$D(s)$は，\n",
    "$$\n",
    "    D(s) = s^4 + s^3 + 2 s^2 - 2s + 4\n",
    "$$\n",
    "\n",
    "である．このとき，フルビッツ行列$H$は\n",
    "$$\n",
    "    H =\n",
    "    \\begin{pmatrix}\n",
    "        1 & -2 & 0 & 0 \\\\\n",
    "        1 & 2 & 4 & 0 \\\\\n",
    "        0 & 1 & -2 & 0 \\\\\n",
    "        0 & 1 & 2 & 4 \\\\\n",
    "    \\end{pmatrix}\n",
    "$$\n",
    "\n",
    "ここで，フルビッツの安定判別法より，各フルビッツ小行列が正となれば安定である．\n",
    "フルビッツ小行列$H_1$，$H_2$，$H_3$は\n",
    "$$\n",
    "\\begin {align}\n",
    "    H_1 &= 1\\\\\n",
    "    H_2 &= \n",
    "    \\begin{pmatrix}\n",
    "        1 & -2\\\\\n",
    "        1 & 2\\\\\n",
    "    \\end{pmatrix}\n",
    "    = 4\\\\\n",
    "    H_3 &=\n",
    "    \\begin{pmatrix}\n",
    "        1 & -2 & 0\\\\\n",
    "        1 & 2 & 4\\\\\n",
    "        0 & 1 & -2\\\\\n",
    "    \\end{pmatrix}\n",
    "    = -12\n",
    "\\end {align}\n",
    "$$\n",
    "\n",
    "$H_1$，$H_2$，$H_3$　> 0を満たさないため，P(s)は不安定である．"
   ]
  },
  {
   "cell_type": "markdown",
   "metadata": {},
   "source": [
    "### 2. 図 1 の比例制御を施したときのフィードバック制御系の伝達関数 G(s) を求めよ.\n",
    "フィードバック制御系の伝達関数において，$K \\cdot P(s)$については積構造で表される．したがって，フィードバック制御器は\n",
    "$$\n",
    "\\begin {align}\n",
    "    G(s) &= \\frac{ K \\cdot P(s)}{1 +  K \\cdot P(s)}\\\\\n",
    "    &= \\frac{ K \\cdot \\frac{s-1}{s^4 + s^3 + 2 s^2 - 2s + 4}　}{1 +  K \\cdot \\frac{s-1}{s^4 + s^3 + 2 s^2 - 2s + 4}}\\\\\n",
    "    &= \\frac{K(s-1)}{s^4 + s^3 + 2s^2 -2s + 4 + K(s-1)}\\\\\n",
    "    &= \\frac{K(s-1)}{s^4 + s^3 + 2s^2 + (K-2)s + 4 -K}\n",
    "\\end {align}\n",
    "$$"
   ]
  },
  {
   "cell_type": "markdown",
   "metadata": {},
   "source": [
    "# 3. フルビッツ法かラウス法を使って，フィードバック制御系が安定となるための K の条件を求めよ. (過程全てを書かなくてよいが，H2, H3 の式や，ラウス数列の 1 列目は書くように。)\n",
    "\n",
    "制御器のフルビッツ行列$H$を考える．\n",
    "$$\n",
    "    H =\n",
    "    \\begin{pmatrix}\n",
    "        1 & K-2 & 0 & 0 \\\\\n",
    "        1 & 2 & 4-K & 0 \\\\\n",
    "        0 & 1 & K-2 & 0 \\\\\n",
    "        0 & 1 & 2 & 4-K \\\\\n",
    "    \\end{pmatrix}\n",
    "$$\n",
    "\n",
    "$H_3$ > 0 となる範囲を求めるので，\n",
    "$K$の満たす範囲はから行列式から未定数について解き求められる．\n",
    "$$\n",
    "\\begin {align}\n",
    "    H_3 &=\n",
    "    \\begin{pmatrix}\n",
    "        1 & K-2 & 0 \\\\\n",
    "        1 & 2 & 4-K \\\\\n",
    "        0 & 1 & K-2 \\\\\n",
    "    \\end{pmatrix}\\\\\n",
    "    &= 2(K - 2) - (4-K) - (K - 2)^2\\\\\n",
    "    &= -K^2 + 7K - 12\\\\\n",
    "    &= -(K - 4)(K - 3)\\\\\n",
    "    K &= 3, 4 \n",
    "\\end{align}\n",
    "$$\n",
    "\n",
    "したがって，求める条件は$3 < K < 4$である．"
   ]
  },
  {
   "cell_type": "markdown",
   "metadata": {},
   "source": [
    "### 4. Python-control を使って K が安定条件を満たす場合と満たさない場合それぞれのステップ応答を調 べ，求めた条件が正しいことを確かめよ(条件の境界ピッタリじゃない方が良い)\n",
    "\n",
    "条件を満たしている場合として$K = 3.5$満たさない場合として$K = -10$,$K = 10$を考える．"
   ]
  },
  {
   "cell_type": "code",
   "execution_count": 1,
   "metadata": {},
   "outputs": [],
   "source": [
    "# 各種ライブラリインポート\n",
    "import numpy as np\n",
    "import matplotlib.pyplot as plt\n",
    "from control.matlab import *"
   ]
  },
  {
   "cell_type": "code",
   "execution_count": 2,
   "metadata": {},
   "outputs": [],
   "source": [
    "#横軸の定義\n",
    "t = np.linspace(0,500,200)"
   ]
  },
  {
   "cell_type": "code",
   "execution_count": 3,
   "metadata": {
    "scrolled": true
   },
   "outputs": [
    {
     "name": "stdout",
     "output_type": "stream",
     "text": [
      "[-10, 10] [1, 1, 2, -12, 14]\n",
      "[3.5, -3.5] [1, 1, 2, 1.5, 0.5]\n",
      "[10, -10] [1, 1, 2, 8, -6]\n"
     ]
    },
    {
     "data": {
      "image/png": "[encoded data removed]",
      "text/plain": [
       "<Figure size 432x288 with 1 Axes>"
      ]
     },
     "metadata": {
      "needs_background": "light"
     },
     "output_type": "display_data"
    }
   ],
   "source": [
    "#Kの指定\n",
    "k = [-10, 3.5, 10]\n",
    "\n",
    "#伝達関数の分子・分母多項式の係数を指定\n",
    "n = [[k[0], -k[0]], [k[1], -k[1]], [k[2], -k[2]]]\n",
    "d = [[1, 1, 2, k[0]-2, 4-k[0]], [1, 1, 2, k[1]-2, 4-k[1]], [1, 1, 2, k[2]-2, 4-k[2]]]\n",
    "\n",
    "#グラフスタイル設定\n",
    "color = [\"blue\", \"green\", \"red\"]\n",
    "linestyle = [\"-\", \"--\", \"-.\"]\n",
    "\n",
    "y = [0, 0, 0]\n",
    "\n",
    "for i in range(3):\n",
    "    #システムの伝達関数を定義\n",
    "    P = tf(n[i], d[i])\n",
    "    print(n[i], d[i])\n",
    "    #システムのステップ応答を計算\n",
    "    y[i], t = step(P, t)\n",
    "\n",
    "#グラフの出力\n",
    "plt.plot(t, y[0], color=color[0], linestyle=linestyle[0],\n",
    "         label=\"k = {}\".format(k[0]))\n",
    "plt.xlabel(\"t [s]\")\n",
    "plt.ylabel(\"y\")\n",
    "plt.legend()\n",
    "plt.grid()\n",
    "plt.show()"
   ]
  },
  {
   "cell_type": "code",
   "execution_count": 4,
   "metadata": {},
   "outputs": [
    {
     "data": {
      "image/png": "[encoded data removed]",
      "text/plain": [
       "<Figure size 432x288 with 1 Axes>"
      ]
     },
     "metadata": {
      "needs_background": "light"
     },
     "output_type": "display_data"
    }
   ],
   "source": [
    "#グラフの出力\n",
    "plt.plot(t, y[1], color=color[1], linestyle=linestyle[1],\n",
    "         label=\"k = {}\".format(k[1]))\n",
    "plt.xlabel(\"t [s]\")\n",
    "plt.ylabel(\"y\")\n",
    "plt.legend()\n",
    "plt.grid()\n",
    "plt.show()\n"
   ]
  },
  {
   "cell_type": "code",
   "execution_count": 5,
   "metadata": {},
   "outputs": [
    {
     "data": {
      "image/png": "[encoded data removed]",
      "text/plain": [
       "<Figure size 432x288 with 1 Axes>"
      ]
     },
     "metadata": {
      "needs_background": "light"
     },
     "output_type": "display_data"
    }
   ],
   "source": [
    "plt.plot(t, y[2], color=color[2], linestyle=linestyle[2],\n",
    "         label=\"k = {}\".format(k[2]))\n",
    "plt.xlabel(\"t [s]\")\n",
    "plt.ylabel(\"y\")\n",
    "plt.legend()\n",
    "plt.grid()\n",
    "plt.show()"
   ]
  }
 ],
 "metadata": {
  "kernelspec": {
   "display_name": "Python 3 (ipykernel)",
   "language": "python",
   "name": "python3"
  },
  "language_info": {
   "codemirror_mode": {
    "name": "ipython",
    "version": 3
   },
   "file_extension": ".py",
   "mimetype": "text/x-python",
   "name": "python",
   "nbconvert_exporter": "python",
   "pygments_lexer": "ipython3",
   "version": "3.8.12"
  },
  "vscode": {
   "interpreter": {
    "hash": "64c0c936f3e19498629458e4faf330cb533e1461aff0d43093b29a269d040dd1"
   }
  }
 },
 "nbformat": 4,
 "nbformat_minor": 2
}
