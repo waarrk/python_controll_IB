{
 "cells": [
  {
   "cell_type": "code",
   "execution_count": 2,
   "metadata": {
    "scrolled": true
   },
   "outputs": [
    {
     "name": "stdout",
     "output_type": "stream",
     "text": [
      "Hello World\n"
     ]
    }
   ],
   "source": [
    "print(\"Hello World\")"
   ]
  },
  {
   "cell_type": "markdown",
   "metadata": {},
   "source": [
    "shift enter で実行"
   ]
  },
  {
   "cell_type": "markdown",
   "metadata": {},
   "source": [
    "esc を押して帯が青色になってからmを押す"
   ]
  },
  {
   "cell_type": "markdown",
   "metadata": {},
   "source": [
    "# 見出し（タイトル）\n",
    "## 見出し2 (セクション）\n",
    "### 見出し3（項目）\n",
    "普通の文。改行は無視される。\n",
    "\n",
    "空行をひとつあけると段落が変わる。\n",
    "\n",
    "アスタリスク2つで**強調**。\n",
    "\n",
    "- このように、\n",
    "- 半角ハイフンと半角スペースで\n",
    "- 簡単にリストを作ることができる\n",
    "\n",
    "1. 半角数字と半角スペースで\n",
    "2. 番号付きリスト\n",
    "4. 数字は実は関係ない\n",
    "1. すべて1とかでもOK\n",
    "\n",
    "アクサングラーブで挟むと\n",
    "コードとして表示`2 + 3`\n",
    "\n",
    "アクサングラーブ3つで\n",
    "別行立てのコードを表示できる。\n",
    "\n",
    "```\n",
    "# 見出し\n",
    "## 見出し2\n",
    "\n",
    "本文\n",
    "```\n",
    "\n",
    "TeXの数式も$y = x^2$のように\n",
    "ドルマーク2つで別行立ての数式\n",
    "$$\n",
    "f(x) = \\frac{1}{x + 1}\n",
    "$$"
   ]
  },
  {
   "cell_type": "code",
   "execution_count": null,
   "metadata": {},
   "outputs": [],
   "source": []
  }
 ],
 "metadata": {
  "kernelspec": {
   "display_name": "Python 3",
   "language": "python",
   "name": "python3"
  },
  "language_info": {
   "codemirror_mode": {
    "name": "ipython",
    "version": 3
   },
   "file_extension": ".py",
   "mimetype": "text/x-python",
   "name": "python",
   "nbconvert_exporter": "python",
   "pygments_lexer": "ipython3",
   "version": "3.7.1"
  }
 },
 "nbformat": 4,
 "nbformat_minor": 2
}
